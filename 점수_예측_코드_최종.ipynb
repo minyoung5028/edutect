{
  "cells": [
    {
      "cell_type": "code",
      "execution_count": null,
      "metadata": {
        "colab": {
          "base_uri": "https://localhost:8080/"
        },
        "id": "egf0hDX07cbu",
        "outputId": "d66f109a-c0dd-4dab-dfc9-1ddfc107f4c6"
      },
      "outputs": [
        {
          "output_type": "stream",
          "name": "stdout",
          "text": [
            "Requirement already satisfied: catboost in /usr/local/lib/python3.10/dist-packages (1.2.1)\n",
            "Requirement already satisfied: graphviz in /usr/local/lib/python3.10/dist-packages (from catboost) (0.20.1)\n",
            "Requirement already satisfied: matplotlib in /usr/local/lib/python3.10/dist-packages (from catboost) (3.7.1)\n",
            "Requirement already satisfied: numpy>=1.16.0 in /usr/local/lib/python3.10/dist-packages (from catboost) (1.23.5)\n",
            "Requirement already satisfied: pandas>=0.24 in /usr/local/lib/python3.10/dist-packages (from catboost) (1.5.3)\n",
            "Requirement already satisfied: scipy in /usr/local/lib/python3.10/dist-packages (from catboost) (1.10.1)\n",
            "Requirement already satisfied: plotly in /usr/local/lib/python3.10/dist-packages (from catboost) (5.15.0)\n",
            "Requirement already satisfied: six in /usr/local/lib/python3.10/dist-packages (from catboost) (1.16.0)\n",
            "Requirement already satisfied: python-dateutil>=2.8.1 in /usr/local/lib/python3.10/dist-packages (from pandas>=0.24->catboost) (2.8.2)\n",
            "Requirement already satisfied: pytz>=2020.1 in /usr/local/lib/python3.10/dist-packages (from pandas>=0.24->catboost) (2023.3.post1)\n",
            "Requirement already satisfied: contourpy>=1.0.1 in /usr/local/lib/python3.10/dist-packages (from matplotlib->catboost) (1.1.0)\n",
            "Requirement already satisfied: cycler>=0.10 in /usr/local/lib/python3.10/dist-packages (from matplotlib->catboost) (0.11.0)\n",
            "Requirement already satisfied: fonttools>=4.22.0 in /usr/local/lib/python3.10/dist-packages (from matplotlib->catboost) (4.42.1)\n",
            "Requirement already satisfied: kiwisolver>=1.0.1 in /usr/local/lib/python3.10/dist-packages (from matplotlib->catboost) (1.4.5)\n",
            "Requirement already satisfied: packaging>=20.0 in /usr/local/lib/python3.10/dist-packages (from matplotlib->catboost) (23.1)\n",
            "Requirement already satisfied: pillow>=6.2.0 in /usr/local/lib/python3.10/dist-packages (from matplotlib->catboost) (9.4.0)\n",
            "Requirement already satisfied: pyparsing>=2.3.1 in /usr/local/lib/python3.10/dist-packages (from matplotlib->catboost) (3.1.1)\n",
            "Requirement already satisfied: tenacity>=6.2.0 in /usr/local/lib/python3.10/dist-packages (from plotly->catboost) (8.2.3)\n"
          ]
        }
      ],
      "source": [
        "pip install catboost\n"
      ]
    },
    {
      "cell_type": "code",
      "execution_count": null,
      "metadata": {
        "colab": {
          "base_uri": "https://localhost:8080/",
          "height": 407
        },
        "id": "afJEXihZ0V65",
        "outputId": "1b1f4313-d614-48f5-9d39-65da8e7d09a3"
      },
      "outputs": [
        {
          "ename": "FileNotFoundError",
          "evalue": "ignored",
          "output_type": "error",
          "traceback": [
            "\u001b[0;31m---------------------------------------------------------------------------\u001b[0m",
            "\u001b[0;31mFileNotFoundError\u001b[0m                         Traceback (most recent call last)",
            "\u001b[0;32m<ipython-input-2-9ae92264cca2>\u001b[0m in \u001b[0;36m<cell line: 10>\u001b[0;34m()\u001b[0m\n\u001b[1;32m      8\u001b[0m \u001b[0;34m\u001b[0m\u001b[0m\n\u001b[1;32m      9\u001b[0m \u001b[0;31m# 엑셀 파일 불러오기 (시트 이름: \"월별 학습 통계\")\u001b[0m\u001b[0;34m\u001b[0m\u001b[0;34m\u001b[0m\u001b[0m\n\u001b[0;32m---> 10\u001b[0;31m \u001b[0mdf\u001b[0m \u001b[0;34m=\u001b[0m \u001b[0mpd\u001b[0m\u001b[0;34m.\u001b[0m\u001b[0mread_excel\u001b[0m\u001b[0;34m(\u001b[0m\u001b[0mfile_path\u001b[0m\u001b[0;34m,\u001b[0m \u001b[0msheet_name\u001b[0m\u001b[0;34m=\u001b[0m\u001b[0;34m\"월별 학습 통계\"\u001b[0m\u001b[0;34m)\u001b[0m\u001b[0;34m\u001b[0m\u001b[0;34m\u001b[0m\u001b[0m\n\u001b[0m\u001b[1;32m     11\u001b[0m \u001b[0;34m\u001b[0m\u001b[0m\n\u001b[1;32m     12\u001b[0m \u001b[0;31m# 필요한 열 선택\u001b[0m\u001b[0;34m\u001b[0m\u001b[0;34m\u001b[0m\u001b[0m\n",
            "\u001b[0;32m/usr/local/lib/python3.10/dist-packages/pandas/util/_decorators.py\u001b[0m in \u001b[0;36mwrapper\u001b[0;34m(*args, **kwargs)\u001b[0m\n\u001b[1;32m    209\u001b[0m                 \u001b[0;32melse\u001b[0m\u001b[0;34m:\u001b[0m\u001b[0;34m\u001b[0m\u001b[0;34m\u001b[0m\u001b[0m\n\u001b[1;32m    210\u001b[0m                     \u001b[0mkwargs\u001b[0m\u001b[0;34m[\u001b[0m\u001b[0mnew_arg_name\u001b[0m\u001b[0;34m]\u001b[0m \u001b[0;34m=\u001b[0m \u001b[0mnew_arg_value\u001b[0m\u001b[0;34m\u001b[0m\u001b[0;34m\u001b[0m\u001b[0m\n\u001b[0;32m--> 211\u001b[0;31m             \u001b[0;32mreturn\u001b[0m \u001b[0mfunc\u001b[0m\u001b[0;34m(\u001b[0m\u001b[0;34m*\u001b[0m\u001b[0margs\u001b[0m\u001b[0;34m,\u001b[0m \u001b[0;34m**\u001b[0m\u001b[0mkwargs\u001b[0m\u001b[0;34m)\u001b[0m\u001b[0;34m\u001b[0m\u001b[0;34m\u001b[0m\u001b[0m\n\u001b[0m\u001b[1;32m    212\u001b[0m \u001b[0;34m\u001b[0m\u001b[0m\n\u001b[1;32m    213\u001b[0m         \u001b[0;32mreturn\u001b[0m \u001b[0mcast\u001b[0m\u001b[0;34m(\u001b[0m\u001b[0mF\u001b[0m\u001b[0;34m,\u001b[0m \u001b[0mwrapper\u001b[0m\u001b[0;34m)\u001b[0m\u001b[0;34m\u001b[0m\u001b[0;34m\u001b[0m\u001b[0m\n",
            "\u001b[0;32m/usr/local/lib/python3.10/dist-packages/pandas/util/_decorators.py\u001b[0m in \u001b[0;36mwrapper\u001b[0;34m(*args, **kwargs)\u001b[0m\n\u001b[1;32m    329\u001b[0m                     \u001b[0mstacklevel\u001b[0m\u001b[0;34m=\u001b[0m\u001b[0mfind_stack_level\u001b[0m\u001b[0;34m(\u001b[0m\u001b[0;34m)\u001b[0m\u001b[0;34m,\u001b[0m\u001b[0;34m\u001b[0m\u001b[0;34m\u001b[0m\u001b[0m\n\u001b[1;32m    330\u001b[0m                 )\n\u001b[0;32m--> 331\u001b[0;31m             \u001b[0;32mreturn\u001b[0m \u001b[0mfunc\u001b[0m\u001b[0;34m(\u001b[0m\u001b[0;34m*\u001b[0m\u001b[0margs\u001b[0m\u001b[0;34m,\u001b[0m \u001b[0;34m**\u001b[0m\u001b[0mkwargs\u001b[0m\u001b[0;34m)\u001b[0m\u001b[0;34m\u001b[0m\u001b[0;34m\u001b[0m\u001b[0m\n\u001b[0m\u001b[1;32m    332\u001b[0m \u001b[0;34m\u001b[0m\u001b[0m\n\u001b[1;32m    333\u001b[0m         \u001b[0;31m# error: \"Callable[[VarArg(Any), KwArg(Any)], Any]\" has no\u001b[0m\u001b[0;34m\u001b[0m\u001b[0;34m\u001b[0m\u001b[0m\n",
            "\u001b[0;32m/usr/local/lib/python3.10/dist-packages/pandas/io/excel/_base.py\u001b[0m in \u001b[0;36mread_excel\u001b[0;34m(io, sheet_name, header, names, index_col, usecols, squeeze, dtype, engine, converters, true_values, false_values, skiprows, nrows, na_values, keep_default_na, na_filter, verbose, parse_dates, date_parser, thousands, decimal, comment, skipfooter, convert_float, mangle_dupe_cols, storage_options)\u001b[0m\n\u001b[1;32m    480\u001b[0m     \u001b[0;32mif\u001b[0m \u001b[0;32mnot\u001b[0m \u001b[0misinstance\u001b[0m\u001b[0;34m(\u001b[0m\u001b[0mio\u001b[0m\u001b[0;34m,\u001b[0m \u001b[0mExcelFile\u001b[0m\u001b[0;34m)\u001b[0m\u001b[0;34m:\u001b[0m\u001b[0;34m\u001b[0m\u001b[0;34m\u001b[0m\u001b[0m\n\u001b[1;32m    481\u001b[0m         \u001b[0mshould_close\u001b[0m \u001b[0;34m=\u001b[0m \u001b[0;32mTrue\u001b[0m\u001b[0;34m\u001b[0m\u001b[0;34m\u001b[0m\u001b[0m\n\u001b[0;32m--> 482\u001b[0;31m         \u001b[0mio\u001b[0m \u001b[0;34m=\u001b[0m \u001b[0mExcelFile\u001b[0m\u001b[0;34m(\u001b[0m\u001b[0mio\u001b[0m\u001b[0;34m,\u001b[0m \u001b[0mstorage_options\u001b[0m\u001b[0;34m=\u001b[0m\u001b[0mstorage_options\u001b[0m\u001b[0;34m,\u001b[0m \u001b[0mengine\u001b[0m\u001b[0;34m=\u001b[0m\u001b[0mengine\u001b[0m\u001b[0;34m)\u001b[0m\u001b[0;34m\u001b[0m\u001b[0;34m\u001b[0m\u001b[0m\n\u001b[0m\u001b[1;32m    483\u001b[0m     \u001b[0;32melif\u001b[0m \u001b[0mengine\u001b[0m \u001b[0;32mand\u001b[0m \u001b[0mengine\u001b[0m \u001b[0;34m!=\u001b[0m \u001b[0mio\u001b[0m\u001b[0;34m.\u001b[0m\u001b[0mengine\u001b[0m\u001b[0;34m:\u001b[0m\u001b[0;34m\u001b[0m\u001b[0;34m\u001b[0m\u001b[0m\n\u001b[1;32m    484\u001b[0m         raise ValueError(\n",
            "\u001b[0;32m/usr/local/lib/python3.10/dist-packages/pandas/io/excel/_base.py\u001b[0m in \u001b[0;36m__init__\u001b[0;34m(self, path_or_buffer, engine, storage_options)\u001b[0m\n\u001b[1;32m   1650\u001b[0m                 \u001b[0mext\u001b[0m \u001b[0;34m=\u001b[0m \u001b[0;34m\"xls\"\u001b[0m\u001b[0;34m\u001b[0m\u001b[0;34m\u001b[0m\u001b[0m\n\u001b[1;32m   1651\u001b[0m             \u001b[0;32melse\u001b[0m\u001b[0;34m:\u001b[0m\u001b[0;34m\u001b[0m\u001b[0;34m\u001b[0m\u001b[0m\n\u001b[0;32m-> 1652\u001b[0;31m                 ext = inspect_excel_format(\n\u001b[0m\u001b[1;32m   1653\u001b[0m                     \u001b[0mcontent_or_path\u001b[0m\u001b[0;34m=\u001b[0m\u001b[0mpath_or_buffer\u001b[0m\u001b[0;34m,\u001b[0m \u001b[0mstorage_options\u001b[0m\u001b[0;34m=\u001b[0m\u001b[0mstorage_options\u001b[0m\u001b[0;34m\u001b[0m\u001b[0;34m\u001b[0m\u001b[0m\n\u001b[1;32m   1654\u001b[0m                 )\n",
            "\u001b[0;32m/usr/local/lib/python3.10/dist-packages/pandas/io/excel/_base.py\u001b[0m in \u001b[0;36minspect_excel_format\u001b[0;34m(content_or_path, storage_options)\u001b[0m\n\u001b[1;32m   1523\u001b[0m         \u001b[0mcontent_or_path\u001b[0m \u001b[0;34m=\u001b[0m \u001b[0mBytesIO\u001b[0m\u001b[0;34m(\u001b[0m\u001b[0mcontent_or_path\u001b[0m\u001b[0;34m)\u001b[0m\u001b[0;34m\u001b[0m\u001b[0;34m\u001b[0m\u001b[0m\n\u001b[1;32m   1524\u001b[0m \u001b[0;34m\u001b[0m\u001b[0m\n\u001b[0;32m-> 1525\u001b[0;31m     with get_handle(\n\u001b[0m\u001b[1;32m   1526\u001b[0m         \u001b[0mcontent_or_path\u001b[0m\u001b[0;34m,\u001b[0m \u001b[0;34m\"rb\"\u001b[0m\u001b[0;34m,\u001b[0m \u001b[0mstorage_options\u001b[0m\u001b[0;34m=\u001b[0m\u001b[0mstorage_options\u001b[0m\u001b[0;34m,\u001b[0m \u001b[0mis_text\u001b[0m\u001b[0;34m=\u001b[0m\u001b[0;32mFalse\u001b[0m\u001b[0;34m\u001b[0m\u001b[0;34m\u001b[0m\u001b[0m\n\u001b[1;32m   1527\u001b[0m     ) as handle:\n",
            "\u001b[0;32m/usr/local/lib/python3.10/dist-packages/pandas/io/common.py\u001b[0m in \u001b[0;36mget_handle\u001b[0;34m(path_or_buf, mode, encoding, compression, memory_map, is_text, errors, storage_options)\u001b[0m\n\u001b[1;32m    863\u001b[0m         \u001b[0;32melse\u001b[0m\u001b[0;34m:\u001b[0m\u001b[0;34m\u001b[0m\u001b[0;34m\u001b[0m\u001b[0m\n\u001b[1;32m    864\u001b[0m             \u001b[0;31m# Binary mode\u001b[0m\u001b[0;34m\u001b[0m\u001b[0;34m\u001b[0m\u001b[0m\n\u001b[0;32m--> 865\u001b[0;31m             \u001b[0mhandle\u001b[0m \u001b[0;34m=\u001b[0m \u001b[0mopen\u001b[0m\u001b[0;34m(\u001b[0m\u001b[0mhandle\u001b[0m\u001b[0;34m,\u001b[0m \u001b[0mioargs\u001b[0m\u001b[0;34m.\u001b[0m\u001b[0mmode\u001b[0m\u001b[0;34m)\u001b[0m\u001b[0;34m\u001b[0m\u001b[0;34m\u001b[0m\u001b[0m\n\u001b[0m\u001b[1;32m    866\u001b[0m         \u001b[0mhandles\u001b[0m\u001b[0;34m.\u001b[0m\u001b[0mappend\u001b[0m\u001b[0;34m(\u001b[0m\u001b[0mhandle\u001b[0m\u001b[0;34m)\u001b[0m\u001b[0;34m\u001b[0m\u001b[0;34m\u001b[0m\u001b[0m\n\u001b[1;32m    867\u001b[0m \u001b[0;34m\u001b[0m\u001b[0m\n",
            "\u001b[0;31mFileNotFoundError\u001b[0m: [Errno 2] No such file or directory: '/content/001_리딩앤 학습데이터_아이포트폴리오.xlsx'"
          ]
        }
      ],
      "source": [
        "import pandas as pd\n",
        "from sklearn.model_selection import train_test_split, GridSearchCV\n",
        "from xgboost import XGBRegressor\n",
        "from sklearn.metrics import mean_squared_error, r2_score\n",
        "from sklearn.preprocessing import StandardScaler\n",
        "\n",
        "file_path = '/content/001_리딩앤 학습데이터_아이포트폴리오.xlsx'\n",
        "\n",
        "# 엑셀 파일 불러오기 (시트 이름: \"월별 학습 통계\")\n",
        "df = pd.read_excel(file_path, sheet_name=\"월별 학습 통계\")\n",
        "\n",
        "# 필요한 열 선택\n",
        "selected_columns = ['1단계 학습 시간(초)', '2단계 학습 시간', '3단계 학습 시간', '4단계 학습 시간', '5단계 학습 시간','월간 학습 일수', '평균 발음 점수(0~1)']\n",
        "df_selected = df[selected_columns]\n",
        "\n",
        "# 다음 달 평균 발음 점수를 예측하기 위해 현재 달의 데이터를 다음 달로 이동\n",
        "df_selected['다음달 평균 발음 점수'] = df_selected['평균 발음 점수(0~1)'].shift(-1)\n",
        "\n",
        "# 결측치가 있는 행 제거\n",
        "df_cleaned = df_selected.dropna()\n",
        "\n",
        "# 사용할 특성과 타겟 선택\n",
        "features = ['1단계 학습 시간(초)', '2단계 학습 시간', '3단계 학습 시간', '4단계 학습 시간', '5단계 학습 시간','월간 학습 일수']\n",
        "X = df_cleaned[features]\n",
        "y = df_cleaned['다음달 평균 발음 점수']\n",
        "\n",
        "# 데이터 분할\n",
        "X_train, X_test, y_train, y_test = train_test_split(X, y, test_size=0.2, random_state=42)\n",
        "\n",
        "# 데이터 스케일링\n",
        "scaler = StandardScaler()\n",
        "X_train_scaled = scaler.fit_transform(X_train)\n",
        "X_test_scaled = scaler.transform(X_test)\n",
        "\n",
        "# XGBoost 모델 생성\n",
        "xgb_model = XGBRegressor(random_state=42)\n",
        "\n",
        "# 하이퍼파라미터 그리드 설정\n",
        "param_grid = {\n",
        "    'n_estimators': [100, 200, 300],\n",
        "    'learning_rate': [0.01, 0.1, 0.2],\n",
        "    'max_depth': [3, 4, 5],\n",
        "}\n",
        "\n",
        "# Grid Search를 사용한 하이퍼파라미터 튜닝\n",
        "grid_search = GridSearchCV(estimator=xgb_model, param_grid=param_grid,\n",
        "                           scoring='neg_mean_squared_error', cv=5)\n",
        "grid_search.fit(X_train_scaled, y_train)\n",
        "\n",
        "# 최적 하이퍼파라미터로 모델 재생성 및 학습\n",
        "best_xgb_model = grid_search.best_estimator_\n",
        "best_xgb_model.fit(X_train_scaled, y_train)\n",
        "\n",
        "# 예측\n",
        "y_pred_xgb = best_xgb_model.predict(X_test_scaled)\n",
        "\n",
        "# 평가\n",
        "mse_xgb = mean_squared_error(y_test, y_pred_xgb)\n",
        "r2_xgb = r2_score(y_test, y_pred_xgb)\n",
        "\n",
        "print(\"XGBoost Model - Mean Squared Error:\", mse_xgb)\n",
        "print(\"XGBoost Model - R-squared:\", r2_xgb)"
      ]
    },
    {
      "cell_type": "code",
      "execution_count": null,
      "metadata": {
        "colab": {
          "base_uri": "https://localhost:8080/"
        },
        "id": "lR6QzHVlaZ1q",
        "outputId": "34d1074d-f817-41b7-ca80-6932724d9b5d"
      },
      "outputs": [
        {
          "name": "stderr",
          "output_type": "stream",
          "text": [
            "<ipython-input-4-8d147d78d7d4>:20: SettingWithCopyWarning: \n",
            "A value is trying to be set on a copy of a slice from a DataFrame.\n",
            "Try using .loc[row_indexer,col_indexer] = value instead\n",
            "\n",
            "See the caveats in the documentation: https://pandas.pydata.org/pandas-docs/stable/user_guide/indexing.html#returning-a-view-versus-a-copy\n",
            "  df_selected['다음달 평균 발음 점수'] = df_selected['평균 발음점수'].shift(-1)\n"
          ]
        },
        {
          "name": "stdout",
          "output_type": "stream",
          "text": [
            "XGBoost Model - Mean Squared Error: 0.012659266157988609\n",
            "XGBoost Model - R-squared: 0.4381889125808448\n"
          ]
        }
      ],
      "source": [
        "#### 4그룹 애들만 해서 분석한거 ### 예측 한거 높게 나옴!!! #예측해볼까용 파일\n",
        "\n",
        "\n",
        "import pandas as pd\n",
        "from sklearn.model_selection import train_test_split, GridSearchCV\n",
        "from xgboost import XGBRegressor\n",
        "from sklearn.metrics import mean_squared_error, r2_score\n",
        "from sklearn.preprocessing import StandardScaler\n",
        "\n",
        "file_path = '/content/군집 최종.xlsx'\n",
        "\n",
        "# 엑셀 파일 불러오기 (시트 이름: \"월별 학습 통계\")\n",
        "df = pd.read_excel(file_path,sheet_name=\"전체\")\n",
        "\n",
        "# 필요한 열 선택\n",
        "selected_columns = ['1단계 학습 시간(초)', '2단계 학습 시간', '3단계 학습 시간', '4단계 학습 시간', '5단계 학습 시간','평균 1~5단계 중 1단계 이상 완료 도서 수','평균 월간 학습 일수','평균 학습 단어 수(3단계 완료한 도서의 단어 수 합)','평균 발음점수']\n",
        "df_selected = df[selected_columns]\n",
        "\n",
        "# 다음 달 평균 발음 점수를 예측하기 위해 현재 달의 데이터를 다음 달로 이동\n",
        "df_selected['다음달 평균 발음 점수'] = df_selected['평균 발음점수'].shift(-1)\n",
        "\n",
        "# 결측치가 있는 행 제거\n",
        "df_cleaned = df_selected.dropna()\n",
        "\n",
        "# 사용할 특성과 타겟 선택\n",
        "features = ['1단계 학습 시간(초)', '2단계 학습 시간', '3단계 학습 시간', '4단계 학습 시간', '5단계 학습 시간','평균 1~5단계 중 1단계 이상 완료 도서 수','평균 월간 학습 일수','평균 학습 단어 수(3단계 완료한 도서의 단어 수 합)','평균 발음점수']\n",
        "X = df_cleaned[features]\n",
        "y = df_cleaned['다음달 평균 발음 점수']\n",
        "\n",
        "# 데이터 분할\n",
        "X_train, X_test, y_train, y_test = train_test_split(X, y, test_size=0.2, random_state=42)\n",
        "\n",
        "# 데이터 스케일링\n",
        "scaler = StandardScaler()\n",
        "X_train_scaled = scaler.fit_transform(X_train)\n",
        "X_test_scaled = scaler.transform(X_test)\n",
        "\n",
        "# XGBoost 모델 생성\n",
        "xgb_model = XGBRegressor(random_state=42)\n",
        "\n",
        "# 하이퍼파라미터 그리드 설정\n",
        "param_grid = {\n",
        "    'n_estimators': [100, 200, 300],\n",
        "    'learning_rate': [0.01, 0.1, 0.2],\n",
        "    'max_depth': [3, 4, 5],\n",
        "}\n",
        "\n",
        "# Grid Search를 사용한 하이퍼파라미터 튜닝\n",
        "grid_search = GridSearchCV(estimator=xgb_model, param_grid=param_grid,\n",
        "                           scoring='neg_mean_squared_error', cv=5)\n",
        "grid_search.fit(X_train_scaled, y_train)\n",
        "\n",
        "# 최적 하이퍼파라미터로 모델 재생성 및 학습\n",
        "best_xgb_model = grid_search.best_estimator_\n",
        "best_xgb_model.fit(X_train_scaled, y_train)\n",
        "\n",
        "# 예측\n",
        "y_pred_xgb = best_xgb_model.predict(X_test_scaled)\n",
        "\n",
        "# 평가\n",
        "mse_xgb = mean_squared_error(y_test, y_pred_xgb)\n",
        "r2_xgb = r2_score(y_test, y_pred_xgb)\n",
        "\n",
        "print(\"XGBoost Model - Mean Squared Error:\", mse_xgb)\n",
        "print(\"XGBoost Model - R-squared:\", r2_xgb)"
      ]
    },
    {
      "cell_type": "code",
      "execution_count": null,
      "metadata": {
        "colab": {
          "base_uri": "https://localhost:8080/",
          "height": 910
        },
        "id": "xehsynVmoll_",
        "outputId": "fefb907f-340f-436c-afba-e9df77a5447b"
      },
      "outputs": [
        {
          "name": "stderr",
          "output_type": "stream",
          "text": [
            "/usr/local/lib/python3.10/dist-packages/IPython/core/pylabtools.py:151: UserWarning: Glyph 50696 (\\N{HANGUL SYLLABLE YE}) missing from current font.\n",
            "  fig.canvas.print_figure(bytes_io, **kw)\n",
            "/usr/local/lib/python3.10/dist-packages/IPython/core/pylabtools.py:151: UserWarning: Glyph 52769 (\\N{HANGUL SYLLABLE CEUG}) missing from current font.\n",
            "  fig.canvas.print_figure(bytes_io, **kw)\n",
            "/usr/local/lib/python3.10/dist-packages/IPython/core/pylabtools.py:151: UserWarning: Glyph 44050 (\\N{HANGUL SYLLABLE GABS}) missing from current font.\n",
            "  fig.canvas.print_figure(bytes_io, **kw)\n",
            "/usr/local/lib/python3.10/dist-packages/IPython/core/pylabtools.py:151: UserWarning: Glyph 47784 (\\N{HANGUL SYLLABLE MO}) missing from current font.\n",
            "  fig.canvas.print_figure(bytes_io, **kw)\n",
            "/usr/local/lib/python3.10/dist-packages/IPython/core/pylabtools.py:151: UserWarning: Glyph 45944 (\\N{HANGUL SYLLABLE DEL}) missing from current font.\n",
            "  fig.canvas.print_figure(bytes_io, **kw)\n",
            "/usr/local/lib/python3.10/dist-packages/IPython/core/pylabtools.py:151: UserWarning: Glyph 49457 (\\N{HANGUL SYLLABLE SEONG}) missing from current font.\n",
            "  fig.canvas.print_figure(bytes_io, **kw)\n",
            "/usr/local/lib/python3.10/dist-packages/IPython/core/pylabtools.py:151: UserWarning: Glyph 45733 (\\N{HANGUL SYLLABLE NEUNG}) missing from current font.\n",
            "  fig.canvas.print_figure(bytes_io, **kw)\n",
            "/usr/local/lib/python3.10/dist-packages/IPython/core/pylabtools.py:151: UserWarning: Glyph 49884 (\\N{HANGUL SYLLABLE SI}) missing from current font.\n",
            "  fig.canvas.print_figure(bytes_io, **kw)\n",
            "/usr/local/lib/python3.10/dist-packages/IPython/core/pylabtools.py:151: UserWarning: Glyph 44033 (\\N{HANGUL SYLLABLE GAG}) missing from current font.\n",
            "  fig.canvas.print_figure(bytes_io, **kw)\n",
            "/usr/local/lib/python3.10/dist-packages/IPython/core/pylabtools.py:151: UserWarning: Glyph 54868 (\\N{HANGUL SYLLABLE HWA}) missing from current font.\n",
            "  fig.canvas.print_figure(bytes_io, **kw)\n",
            "/usr/local/lib/python3.10/dist-packages/IPython/core/pylabtools.py:151: UserWarning: Glyph 49892 (\\N{HANGUL SYLLABLE SIL}) missing from current font.\n",
            "  fig.canvas.print_figure(bytes_io, **kw)\n",
            "/usr/local/lib/python3.10/dist-packages/IPython/core/pylabtools.py:151: UserWarning: Glyph 51228 (\\N{HANGUL SYLLABLE JE}) missing from current font.\n",
            "  fig.canvas.print_figure(bytes_io, **kw)\n"
          ]
        },
        {
          "data": {
            "image/png": "[encoded data removed]",
            "text/plain": [
              "<Figure size 640x480 with 1 Axes>"
            ]
          },
          "metadata": {},
          "output_type": "display_data"
        }
      ],
      "source": [
        "import matplotlib.pyplot as plt\n",
        "import numpy as np\n",
        "\n",
        "# 예측값과 실제값을 가져옵니다 (이 예에서는 임의로 생성)\n",
        "y_true = np.random.rand(100)\n",
        "y_pred = np.random.rand(100)\n",
        "\n",
        "# Scatter plot을 사용하여 예측값과 실제값을 비교합니다.\n",
        "plt.scatter(y_true, y_pred)\n",
        "plt.xlabel('실제값')\n",
        "plt.ylabel('예측값')\n",
        "plt.title('XGBoost 모델 성능 시각화')\n",
        "plt.show()\n"
      ]
    },
    {
      "cell_type": "code",
      "execution_count": null,
      "metadata": {
        "id": "bgnRqAKXDUg8"
      },
      "outputs": [],
      "source": [
        "import statsmodels.api as sm\n",
        "import scipy.stats as stats\n",
        "\n",
        "residuals = error\n",
        "fig, ax = plt.subplots(figsize=(6, 3))\n",
        "sm.qqplot(residuals, stats.t, fit=True, line='45', ax=ax)\n",
        "plt.title(\"QQ Plot\")\n",
        "plt.show()\n",
        "# QQ 플롯은 예측 오차가 정규 분포를 따르는지 확인하는 데 사용됩니다. 정규 분포를 따르는 경우, QQ 플롯은 대각선에 가까운 패턴을 보여야 합니다. 코드 예제는 다음과 같습니다:"
      ]
    },
    {
      "cell_type": "code",
      "source": [],
      "metadata": {
        "id": "epLdveR0vbTu"
      },
      "execution_count": null,
      "outputs": []
    },
    {
      "cell_type": "code",
      "source": [
        "#### 4그룹 애들만 해서 분석한거 ### 예측 한거 높게 나옴!!! #예측해볼까용 파일\n",
        "\n",
        "\n",
        "import pandas as pd\n",
        "from sklearn.model_selection import train_test_split, GridSearchCV\n",
        "from xgboost import XGBRegressor\n",
        "from sklearn.metrics import mean_squared_error, r2_score\n",
        "from sklearn.preprocessing import StandardScaler\n",
        "\n",
        "file_path = '/content/군집 최종.xlsx'\n",
        "\n",
        "# 엑셀 파일 불러오기 (시트 이름: \"월별 학습 통계\")\n",
        "df = pd.read_excel(file_path,sheet_name=\"전체\")\n",
        "\n",
        "# 필요한 열 선택\n",
        "selected_columns = ['1단계 학습 시간(초)', '2단계 학습 시간', '3단계 학습 시간', '4단계 학습 시간', '5단계 학습 시간','평균 1~5단계 중 1단계 이상 완료 도서 수','평균 월간 학습 일수','평균 학습 단어 수(3단계 완료한 도서의 단어 수 합)','평균 발음점수']\n",
        "df_selected = df[selected_columns]\n",
        "\n",
        "# 다음 달 평균 발음 점수를 예측하기 위해 현재 달의 데이터를 다음 달로 이동\n",
        "df_selected['다음달 평균 발음 점수'] = df_selected['평균 발음점수'].shift(-1)\n",
        "\n",
        "# 결측치가 있는 행 제거\n",
        "df_cleaned = df_selected.dropna()\n",
        "\n",
        "# 사용할 특성과 타겟 선택\n",
        "features = ['1단계 학습 시간(초)', '2단계 학습 시간', '3단계 학습 시간', '4단계 학습 시간', '5단계 학습 시간','평균 1~5단계 중 1단계 이상 완료 도서 수','평균 월간 학습 일수','평균 학습 단어 수(3단계 완료한 도서의 단어 수 합)','평균 발음점수']\n",
        "X = df_cleaned[features]\n",
        "y = df_cleaned['다음달 평균 발음 점수']\n",
        "\n",
        "# 데이터 분할\n",
        "X_train, X_test, y_train, y_test = train_test_split(X, y, test_size=0.2, random_state=42)\n",
        "\n",
        "# 데이터 스케일링\n",
        "scaler = StandardScaler()\n",
        "X_train_scaled = scaler.fit_transform(X_train)\n",
        "X_test_scaled = scaler.transform(X_test)\n",
        "\n",
        "# XGBoost 모델 생성\n",
        "xgb_model = XGBRegressor(random_state=42)\n",
        "\n",
        "# 하이퍼파라미터 그리드 설정\n",
        "param_grid = {\n",
        "    'n_estimators': [100, 200, 300],\n",
        "    'learning_rate': [0.01, 0.1, 0.2],\n",
        "    'max_depth': [3, 4, 5],\n",
        "}\n",
        "\n",
        "# Grid Search를 사용한 하이퍼파라미터 튜닝\n",
        "grid_search = GridSearchCV(estimator=xgb_model, param_grid=param_grid,\n",
        "                           scoring='neg_mean_squared_error', cv=5)\n",
        "grid_search.fit(X_train_scaled, y_train)\n",
        "\n",
        "# 최적 하이퍼파라미터로 모델 재생성 및 학습\n",
        "best_xgb_model = grid_search.best_estimator_\n",
        "best_xgb_model.fit(X_train_scaled, y_train)\n",
        "\n",
        "# 예측\n",
        "y_pred_xgb = best_xgb_model.predict(X_test_scaled)\n",
        "\n",
        "# 평가\n",
        "mse_xgb = mean_squared_error(y_test, y_pred_xgb)\n",
        "r2_xgb = r2_score(y_test, y_pred_xgb)\n",
        "\n",
        "print(\"XGBoost Model - Mean Squared Error:\", mse_xgb)\n",
        "print(\"XGBoost Model - R-squared:\", r2_xgb)"
      ],
      "metadata": {
        "colab": {
          "base_uri": "https://localhost:8080/"
        },
        "id": "TNEKeAwQvbjh",
        "outputId": "54689f83-4cea-44b6-de42-587514f03a14"
      },
      "execution_count": null,
      "outputs": [
        {
          "output_type": "stream",
          "name": "stderr",
          "text": [
            "<ipython-input-3-8d147d78d7d4>:20: SettingWithCopyWarning: \n",
            "A value is trying to be set on a copy of a slice from a DataFrame.\n",
            "Try using .loc[row_indexer,col_indexer] = value instead\n",
            "\n",
            "See the caveats in the documentation: https://pandas.pydata.org/pandas-docs/stable/user_guide/indexing.html#returning-a-view-versus-a-copy\n",
            "  df_selected['다음달 평균 발음 점수'] = df_selected['평균 발음점수'].shift(-1)\n"
          ]
        },
        {
          "output_type": "stream",
          "name": "stdout",
          "text": [
            "XGBoost Model - Mean Squared Error: 0.012659266157988609\n",
            "XGBoost Model - R-squared: 0.4381889125808448\n"
          ]
        }
      ]
    },
    {
      "cell_type": "code",
      "source": [
        "import matplotlib.pyplot as plt\n",
        "\n",
        "# XGBoost 모델에서 변수 중요도 확인\n",
        "feature_importance = best_xgb_model.feature_importances_\n",
        "\n",
        "# 중요도를 특성 이름과 함께 데이터프레임으로 만들기\n",
        "feature_importance_df = pd.DataFrame({'Feature': features, 'Importance': feature_importance})\n",
        "\n",
        "# 중요도를 Importance 기준으로 내림차순 정렬\n",
        "feature_importance_df = feature_importance_df.sort_values(by='Importance', ascending=False)\n",
        "\n",
        "# 변수 중요도 시각화\n",
        "plt.figure(figsize=(10, 6))\n",
        "plt.barh(feature_importance_df['Feature'], feature_importance_df['Importance'], color='green')\n",
        "plt.xlabel('한글 레이블'.encode('utf-8'))\n",
        "plt.xlabel('중요도')\n",
        "plt.ylabel('특성')\n",
        "plt.title('XGBoost 변수 중요도')\n",
        "plt.gca().invert_yaxis()  # 중요도가 높은 특성이 위로 오도록 역순으로 표시\n",
        "\n",
        "plt.show()\n"
      ],
      "metadata": {
        "colab": {
          "base_uri": "https://localhost:8080/",
          "height": 1000
        },
        "id": "LaSNDiEYvmrM",
        "outputId": "41b584e6-6f7f-49c5-a1a7-be2bfe9d0e17"
      },
      "execution_count": null,
      "outputs": [
        {
          "output_type": "stream",
          "name": "stderr",
          "text": [
            "WARNING:matplotlib.font_manager:findfont: Font family 'NanumGothic' not found.\n",
            "WARNING:matplotlib.font_manager:findfont: Font family 'NanumGothic' not found.\n",
            "/usr/local/lib/python3.10/dist-packages/IPython/core/pylabtools.py:151: UserWarning: Glyph 54217 (\\N{HANGUL SYLLABLE PYEONG}) missing from current font.\n",
            "  fig.canvas.print_figure(bytes_io, **kw)\n",
            "/usr/local/lib/python3.10/dist-packages/IPython/core/pylabtools.py:151: UserWarning: Glyph 44512 (\\N{HANGUL SYLLABLE GYUN}) missing from current font.\n",
            "  fig.canvas.print_figure(bytes_io, **kw)\n",
            "/usr/local/lib/python3.10/dist-packages/IPython/core/pylabtools.py:151: UserWarning: Glyph 48156 (\\N{HANGUL SYLLABLE BAL}) missing from current font.\n",
            "  fig.canvas.print_figure(bytes_io, **kw)\n",
            "/usr/local/lib/python3.10/dist-packages/IPython/core/pylabtools.py:151: UserWarning: Glyph 51020 (\\N{HANGUL SYLLABLE EUM}) missing from current font.\n",
            "  fig.canvas.print_figure(bytes_io, **kw)\n",
            "/usr/local/lib/python3.10/dist-packages/IPython/core/pylabtools.py:151: UserWarning: Glyph 51216 (\\N{HANGUL SYLLABLE JEOM}) missing from current font.\n",
            "  fig.canvas.print_figure(bytes_io, **kw)\n",
            "/usr/local/lib/python3.10/dist-packages/IPython/core/pylabtools.py:151: UserWarning: Glyph 49688 (\\N{HANGUL SYLLABLE SU}) missing from current font.\n",
            "  fig.canvas.print_figure(bytes_io, **kw)\n",
            "WARNING:matplotlib.font_manager:findfont: Font family 'NanumGothic' not found.\n",
            "/usr/local/lib/python3.10/dist-packages/IPython/core/pylabtools.py:151: UserWarning: Glyph 45800 (\\N{HANGUL SYLLABLE DAN}) missing from current font.\n",
            "  fig.canvas.print_figure(bytes_io, **kw)\n",
            "/usr/local/lib/python3.10/dist-packages/IPython/core/pylabtools.py:151: UserWarning: Glyph 44228 (\\N{HANGUL SYLLABLE GYE}) missing from current font.\n",
            "  fig.canvas.print_figure(bytes_io, **kw)\n",
            "/usr/local/lib/python3.10/dist-packages/IPython/core/pylabtools.py:151: UserWarning: Glyph 54617 (\\N{HANGUL SYLLABLE HAG}) missing from current font.\n",
            "  fig.canvas.print_figure(bytes_io, **kw)\n",
            "/usr/local/lib/python3.10/dist-packages/IPython/core/pylabtools.py:151: UserWarning: Glyph 49845 (\\N{HANGUL SYLLABLE SEUB}) missing from current font.\n",
            "  fig.canvas.print_figure(bytes_io, **kw)\n",
            "/usr/local/lib/python3.10/dist-packages/IPython/core/pylabtools.py:151: UserWarning: Glyph 49884 (\\N{HANGUL SYLLABLE SI}) missing from current font.\n",
            "  fig.canvas.print_figure(bytes_io, **kw)\n",
            "/usr/local/lib/python3.10/dist-packages/IPython/core/pylabtools.py:151: UserWarning: Glyph 44036 (\\N{HANGUL SYLLABLE GAN}) missing from current font.\n",
            "  fig.canvas.print_figure(bytes_io, **kw)\n",
            "/usr/local/lib/python3.10/dist-packages/IPython/core/pylabtools.py:151: UserWarning: Glyph 52488 (\\N{HANGUL SYLLABLE CO}) missing from current font.\n",
            "  fig.canvas.print_figure(bytes_io, **kw)\n",
            "WARNING:matplotlib.font_manager:findfont: Font family 'NanumGothic' not found.\n",
            "/usr/local/lib/python3.10/dist-packages/IPython/core/pylabtools.py:151: UserWarning: Glyph 50900 (\\N{HANGUL SYLLABLE WEOL}) missing from current font.\n",
            "  fig.canvas.print_figure(bytes_io, **kw)\n",
            "/usr/local/lib/python3.10/dist-packages/IPython/core/pylabtools.py:151: UserWarning: Glyph 51068 (\\N{HANGUL SYLLABLE IL}) missing from current font.\n",
            "  fig.canvas.print_figure(bytes_io, **kw)\n",
            "WARNING:matplotlib.font_manager:findfont: Font family 'NanumGothic' not found.\n",
            "/usr/local/lib/python3.10/dist-packages/IPython/core/pylabtools.py:151: UserWarning: Glyph 50612 (\\N{HANGUL SYLLABLE EO}) missing from current font.\n",
            "  fig.canvas.print_figure(bytes_io, **kw)\n",
            "/usr/local/lib/python3.10/dist-packages/IPython/core/pylabtools.py:151: UserWarning: Glyph 50756 (\\N{HANGUL SYLLABLE WAN}) missing from current font.\n",
            "  fig.canvas.print_figure(bytes_io, **kw)\n",
            "/usr/local/lib/python3.10/dist-packages/IPython/core/pylabtools.py:151: UserWarning: Glyph 47308 (\\N{HANGUL SYLLABLE RYO}) missing from current font.\n",
            "  fig.canvas.print_figure(bytes_io, **kw)\n",
            "/usr/local/lib/python3.10/dist-packages/IPython/core/pylabtools.py:151: UserWarning: Glyph 54620 (\\N{HANGUL SYLLABLE HAN}) missing from current font.\n",
            "  fig.canvas.print_figure(bytes_io, **kw)\n",
            "/usr/local/lib/python3.10/dist-packages/IPython/core/pylabtools.py:151: UserWarning: Glyph 46020 (\\N{HANGUL SYLLABLE DO}) missing from current font.\n",
            "  fig.canvas.print_figure(bytes_io, **kw)\n",
            "/usr/local/lib/python3.10/dist-packages/IPython/core/pylabtools.py:151: UserWarning: Glyph 49436 (\\N{HANGUL SYLLABLE SEO}) missing from current font.\n",
            "  fig.canvas.print_figure(bytes_io, **kw)\n",
            "/usr/local/lib/python3.10/dist-packages/IPython/core/pylabtools.py:151: UserWarning: Glyph 51032 (\\N{HANGUL SYLLABLE YI}) missing from current font.\n",
            "  fig.canvas.print_figure(bytes_io, **kw)\n",
            "/usr/local/lib/python3.10/dist-packages/IPython/core/pylabtools.py:151: UserWarning: Glyph 54633 (\\N{HANGUL SYLLABLE HAB}) missing from current font.\n",
            "  fig.canvas.print_figure(bytes_io, **kw)\n",
            "WARNING:matplotlib.font_manager:findfont: Font family 'NanumGothic' not found.\n",
            "WARNING:matplotlib.font_manager:findfont: Font family 'NanumGothic' not found.\n",
            "WARNING:matplotlib.font_manager:findfont: Font family 'NanumGothic' not found.\n",
            "WARNING:matplotlib.font_manager:findfont: Font family 'NanumGothic' not found.\n",
            "WARNING:matplotlib.font_manager:findfont: Font family 'NanumGothic' not found.\n",
            "/usr/local/lib/python3.10/dist-packages/IPython/core/pylabtools.py:151: UserWarning: Glyph 51473 (\\N{HANGUL SYLLABLE JUNG}) missing from current font.\n",
            "  fig.canvas.print_figure(bytes_io, **kw)\n",
            "/usr/local/lib/python3.10/dist-packages/IPython/core/pylabtools.py:151: UserWarning: Glyph 51060 (\\N{HANGUL SYLLABLE I}) missing from current font.\n",
            "  fig.canvas.print_figure(bytes_io, **kw)\n",
            "/usr/local/lib/python3.10/dist-packages/IPython/core/pylabtools.py:151: UserWarning: Glyph 49345 (\\N{HANGUL SYLLABLE SANG}) missing from current font.\n",
            "  fig.canvas.print_figure(bytes_io, **kw)\n",
            "WARNING:matplotlib.font_manager:findfont: Font family 'NanumGothic' not found.\n",
            "/usr/local/lib/python3.10/dist-packages/IPython/core/pylabtools.py:151: UserWarning: Glyph 53945 (\\N{HANGUL SYLLABLE TEUG}) missing from current font.\n",
            "  fig.canvas.print_figure(bytes_io, **kw)\n",
            "/usr/local/lib/python3.10/dist-packages/IPython/core/pylabtools.py:151: UserWarning: Glyph 49457 (\\N{HANGUL SYLLABLE SEONG}) missing from current font.\n",
            "  fig.canvas.print_figure(bytes_io, **kw)\n",
            "WARNING:matplotlib.font_manager:findfont: Font family 'NanumGothic' not found.\n",
            "WARNING:matplotlib.font_manager:findfont: Font family 'NanumGothic' not found.\n",
            "/usr/local/lib/python3.10/dist-packages/IPython/core/pylabtools.py:151: UserWarning: Glyph 48320 (\\N{HANGUL SYLLABLE BYEON}) missing from current font.\n",
            "  fig.canvas.print_figure(bytes_io, **kw)\n",
            "/usr/local/lib/python3.10/dist-packages/IPython/core/pylabtools.py:151: UserWarning: Glyph 50836 (\\N{HANGUL SYLLABLE YO}) missing from current font.\n",
            "  fig.canvas.print_figure(bytes_io, **kw)\n",
            "WARNING:matplotlib.font_manager:findfont: Font family 'NanumGothic' not found.\n",
            "WARNING:matplotlib.font_manager:findfont: Font family 'NanumGothic' not found.\n",
            "WARNING:matplotlib.font_manager:findfont: Font family 'NanumGothic' not found.\n",
            "WARNING:matplotlib.font_manager:findfont: Font family 'NanumGothic' not found.\n",
            "WARNING:matplotlib.font_manager:findfont: Font family 'NanumGothic' not found.\n",
            "WARNING:matplotlib.font_manager:findfont: Font family 'NanumGothic' not found.\n",
            "WARNING:matplotlib.font_manager:findfont: Font family 'NanumGothic' not found.\n",
            "WARNING:matplotlib.font_manager:findfont: Font family 'NanumGothic' not found.\n",
            "WARNING:matplotlib.font_manager:findfont: Font family 'NanumGothic' not found.\n",
            "WARNING:matplotlib.font_manager:findfont: Font family 'NanumGothic' not found.\n",
            "WARNING:matplotlib.font_manager:findfont: Font family 'NanumGothic' not found.\n",
            "WARNING:matplotlib.font_manager:findfont: Font family 'NanumGothic' not found.\n",
            "WARNING:matplotlib.font_manager:findfont: Font family 'NanumGothic' not found.\n",
            "WARNING:matplotlib.font_manager:findfont: Font family 'NanumGothic' not found.\n",
            "WARNING:matplotlib.font_manager:findfont: Font family 'NanumGothic' not found.\n",
            "WARNING:matplotlib.font_manager:findfont: Font family 'NanumGothic' not found.\n",
            "WARNING:matplotlib.font_manager:findfont: Font family 'NanumGothic' not found.\n",
            "WARNING:matplotlib.font_manager:findfont: Font family 'NanumGothic' not found.\n",
            "WARNING:matplotlib.font_manager:findfont: Font family 'NanumGothic' not found.\n",
            "WARNING:matplotlib.font_manager:findfont: Font family 'NanumGothic' not found.\n",
            "WARNING:matplotlib.font_manager:findfont: Font family 'NanumGothic' not found.\n",
            "WARNING:matplotlib.font_manager:findfont: Font family 'NanumGothic' not found.\n",
            "WARNING:matplotlib.font_manager:findfont: Font family 'NanumGothic' not found.\n",
            "WARNING:matplotlib.font_manager:findfont: Font family 'NanumGothic' not found.\n",
            "WARNING:matplotlib.font_manager:findfont: Font family 'NanumGothic' not found.\n",
            "WARNING:matplotlib.font_manager:findfont: Font family 'NanumGothic' not found.\n",
            "WARNING:matplotlib.font_manager:findfont: Font family 'NanumGothic' not found.\n",
            "WARNING:matplotlib.font_manager:findfont: Font family 'NanumGothic' not found.\n",
            "WARNING:matplotlib.font_manager:findfont: Font family 'NanumGothic' not found.\n",
            "WARNING:matplotlib.font_manager:findfont: Font family 'NanumGothic' not found.\n",
            "WARNING:matplotlib.font_manager:findfont: Font family 'NanumGothic' not found.\n",
            "WARNING:matplotlib.font_manager:findfont: Font family 'NanumGothic' not found.\n",
            "WARNING:matplotlib.font_manager:findfont: Font family 'NanumGothic' not found.\n",
            "WARNING:matplotlib.font_manager:findfont: Font family 'NanumGothic' not found.\n",
            "WARNING:matplotlib.font_manager:findfont: Font family 'NanumGothic' not found.\n",
            "WARNING:matplotlib.font_manager:findfont: Font family 'NanumGothic' not found.\n",
            "WARNING:matplotlib.font_manager:findfont: Font family 'NanumGothic' not found.\n",
            "WARNING:matplotlib.font_manager:findfont: Font family 'NanumGothic' not found.\n",
            "WARNING:matplotlib.font_manager:findfont: Font family 'NanumGothic' not found.\n",
            "WARNING:matplotlib.font_manager:findfont: Font family 'NanumGothic' not found.\n",
            "WARNING:matplotlib.font_manager:findfont: Font family 'NanumGothic' not found.\n",
            "WARNING:matplotlib.font_manager:findfont: Font family 'NanumGothic' not found.\n",
            "WARNING:matplotlib.font_manager:findfont: Font family 'NanumGothic' not found.\n",
            "WARNING:matplotlib.font_manager:findfont: Font family 'NanumGothic' not found.\n",
            "WARNING:matplotlib.font_manager:findfont: Font family 'NanumGothic' not found.\n",
            "WARNING:matplotlib.font_manager:findfont: Font family 'NanumGothic' not found.\n",
            "WARNING:matplotlib.font_manager:findfont: Font family 'NanumGothic' not found.\n",
            "WARNING:matplotlib.font_manager:findfont: Font family 'NanumGothic' not found.\n",
            "WARNING:matplotlib.font_manager:findfont: Font family 'NanumGothic' not found.\n",
            "WARNING:matplotlib.font_manager:findfont: Font family 'NanumGothic' not found.\n",
            "WARNING:matplotlib.font_manager:findfont: Font family 'NanumGothic' not found.\n"
          ]
        },
        {
          "output_type": "display_data",
          "data": {
            "text/plain": [
              "<Figure size 1000x600 with 1 Axes>"
            ],
            "image/png": "[encoded data removed]"
          },
          "metadata": {}
        }
      ]
    },
    {
      "cell_type": "code",
      "source": [
        "# XGBoost 모델에서 변수 중요도 확인\n",
        "feature_importance = best_xgb_model.feature_importances_\n",
        "\n",
        "# 중요도를 특성 이름과 함께 데이터프레임으로 만들기\n",
        "feature_importance_df = pd.DataFrame({'Feature': features, 'Importance': feature_importance})\n",
        "\n",
        "# 중요도를 Importance 기준으로 내림차순 정렬\n",
        "feature_importance_df = feature_importance_df.sort_values(by='Importance', ascending=False)\n",
        "\n",
        "# 변수 중요도 출력\n",
        "print(\"변수 중요도:\")\n",
        "print(feature_importance_df)\n"
      ],
      "metadata": {
        "id": "fTwx4-_ez-SA",
        "outputId": "6419be54-8ddd-4638-d174-8f4a4a157b0f",
        "colab": {
          "base_uri": "https://localhost:8080/"
        }
      },
      "execution_count": null,
      "outputs": [
        {
          "output_type": "stream",
          "name": "stdout",
          "text": [
            "변수 중요도:\n",
            "                          Feature  Importance\n",
            "8                         평균 발음점수    0.366679\n",
            "0                    1단계 학습 시간(초)    0.129225\n",
            "6                     평균 월간 학습 일수    0.124621\n",
            "7  평균 학습 단어 수(3단계 완료한 도서의 단어 수 합)    0.102070\n",
            "4                       5단계 학습 시간    0.078267\n",
            "1                       2단계 학습 시간    0.062692\n",
            "2                       3단계 학습 시간    0.051174\n",
            "3                       4단계 학습 시간    0.043558\n",
            "5       평균 1~5단계 중 1단계 이상 완료 도서 수    0.041714\n"
          ]
        }
      ]
    }
  ],
  "metadata": {
    "colab": {
      "provenance": []
    },
    "kernelspec": {
      "display_name": "Python 3",
      "name": "python3"
    },
    "language_info": {
      "name": "python"
    }
  },
  "nbformat": 4,
  "nbformat_minor": 0
}